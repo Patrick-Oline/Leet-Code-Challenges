{
 "cells": [
  {
   "cell_type": "markdown",
   "id": "6ae030af",
   "metadata": {},
   "source": [
    "Given an array of integers **nums** and an integer **target**, return **indices** of the *two numbers* such that they add up to target.\n",
    "\n",
    "You may assume that each input would have exactly **one solution**, and you may not use the same element twice.\n",
    "\n",
    "You can return the answer in any order."
   ]
  },
  {
   "cell_type": "code",
   "execution_count": 1,
   "id": "12c5666a",
   "metadata": {},
   "outputs": [],
   "source": [
    "class Solution:\n",
    "    def twoSum(self, nums, target):\n",
    "        \n",
    "        d = {}\n",
    "        for i, j in enumerate(nums):\n",
    "            r = target - j\n",
    "            if r in d: \n",
    "                return [d[r], i]\n",
    "            else:\n",
    "                d[j] = i\n",
    "            \n",
    "s = Solution()"
   ]
  },
  {
   "cell_type": "code",
   "execution_count": 2,
   "id": "340ca0ca",
   "metadata": {},
   "outputs": [
    {
     "data": {
      "text/plain": [
       "[0, 1]"
      ]
     },
     "execution_count": 2,
     "metadata": {},
     "output_type": "execute_result"
    }
   ],
   "source": [
    "nums = [2,7,11,15]\n",
    "target = 9\n",
    "\n",
    "s.twoSum(nums,target)"
   ]
  },
  {
   "cell_type": "code",
   "execution_count": 3,
   "id": "251703d6",
   "metadata": {},
   "outputs": [
    {
     "data": {
      "text/plain": [
       "[1, 2]"
      ]
     },
     "execution_count": 3,
     "metadata": {},
     "output_type": "execute_result"
    }
   ],
   "source": [
    "nums2 = [3,2,4]\n",
    "target2 = 6\n",
    "\n",
    "s.twoSum(nums2,target2)"
   ]
  },
  {
   "cell_type": "code",
   "execution_count": 4,
   "id": "2a894b6b",
   "metadata": {},
   "outputs": [
    {
     "data": {
      "text/plain": [
       "[0, 1]"
      ]
     },
     "execution_count": 4,
     "metadata": {},
     "output_type": "execute_result"
    }
   ],
   "source": [
    "nums3 = [3,3]\n",
    "target3 = 6\n",
    "\n",
    "s.twoSum(nums3,target3)"
   ]
  },
  {
   "cell_type": "code",
   "execution_count": null,
   "id": "3ec2ff92",
   "metadata": {},
   "outputs": [],
   "source": []
  }
 ],
 "metadata": {
  "kernelspec": {
   "display_name": "Python 3 (ipykernel)",
   "language": "python",
   "name": "python3"
  },
  "language_info": {
   "codemirror_mode": {
    "name": "ipython",
    "version": 3
   },
   "file_extension": ".py",
   "mimetype": "text/x-python",
   "name": "python",
   "nbconvert_exporter": "python",
   "pygments_lexer": "ipython3",
   "version": "3.9.7"
  }
 },
 "nbformat": 4,
 "nbformat_minor": 5
}

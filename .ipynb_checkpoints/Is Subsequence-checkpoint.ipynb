{
 "cells": [
  {
   "cell_type": "code",
   "execution_count": 1,
   "id": "45fe7366",
   "metadata": {},
   "outputs": [],
   "source": [
    "def isSubsequence(s, t):\n",
    "\n",
    "    p1 = p2 = 0\n",
    "    \n",
    "    while p1 < len(s) and p2 < len(t):\n",
    "    \n",
    "    # move both pointers or just the right pointer\n",
    "        \n",
    "        # add 1 to p1 only if it is equal to p2 item\n",
    "        if s[p1] == t[p2]:\n",
    "            p1 += 1\n",
    "        \n",
    "        #add 1 tp p2 every time\n",
    "        p2 += 1\n",
    "        \n",
    "    return p1 == len(s)"
   ]
  },
  {
   "cell_type": "code",
   "execution_count": 2,
   "id": "a042fe60",
   "metadata": {},
   "outputs": [
    {
     "data": {
      "text/plain": [
       "True"
      ]
     },
     "execution_count": 2,
     "metadata": {},
     "output_type": "execute_result"
    }
   ],
   "source": [
    "s = \"abc\"\n",
    "t = \"ahbgdc\"\n",
    "\n",
    "isSubsequence(s,t)"
   ]
  },
  {
   "cell_type": "code",
   "execution_count": 3,
   "id": "76258903",
   "metadata": {},
   "outputs": [
    {
     "data": {
      "text/plain": [
       "False"
      ]
     },
     "execution_count": 3,
     "metadata": {},
     "output_type": "execute_result"
    }
   ],
   "source": [
    "s = \"axc\"\n",
    "t = \"ahbgdc\"\n",
    "\n",
    "\n",
    "isSubsequence(s,t)"
   ]
  },
  {
   "cell_type": "code",
   "execution_count": 4,
   "id": "c1b9a74f",
   "metadata": {},
   "outputs": [
    {
     "data": {
      "text/plain": [
       "False"
      ]
     },
     "execution_count": 4,
     "metadata": {},
     "output_type": "execute_result"
    }
   ],
   "source": [
    "s = \"cxa\"\n",
    "t = \"ahbgdc\"\n",
    "\n",
    "isSubsequence(s,t)"
   ]
  }
 ],
 "metadata": {
  "kernelspec": {
   "display_name": "Python 3 (ipykernel)",
   "language": "python",
   "name": "python3"
  },
  "language_info": {
   "codemirror_mode": {
    "name": "ipython",
    "version": 3
   },
   "file_extension": ".py",
   "mimetype": "text/x-python",
   "name": "python",
   "nbconvert_exporter": "python",
   "pygments_lexer": "ipython3",
   "version": "3.9.7"
  }
 },
 "nbformat": 4,
 "nbformat_minor": 5
}

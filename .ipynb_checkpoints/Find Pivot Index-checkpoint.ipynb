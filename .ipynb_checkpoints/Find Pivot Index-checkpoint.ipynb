{
 "cells": [
  {
   "cell_type": "code",
   "execution_count": 1,
   "id": "12e0b0bb",
   "metadata": {},
   "outputs": [],
   "source": [
    "def pivotIndex(nums):\n",
    "\n",
    "    leftSum = 0\n",
    "    rightSum = sum(nums)\n",
    "        \n",
    "    for idx, x in enumerate(nums):\n",
    "        rightSum -= x\n",
    "            \n",
    "        if leftSum == rightSum:\n",
    "            return print('The index of the Pivot number is '+ str(idx) + '.')    \n",
    "            \n",
    "        leftSum += x\n",
    "        \n",
    "    return print('There is no Pivot index for this array.')"
   ]
  },
  {
   "cell_type": "code",
   "execution_count": 2,
   "id": "c81e2355",
   "metadata": {},
   "outputs": [
    {
     "name": "stdout",
     "output_type": "stream",
     "text": [
      "The index of the Pivot number is 3.\n"
     ]
    }
   ],
   "source": [
    "nums = [1,7,3,6,5,6]\n",
    "\n",
    "pivotIndex(nums)"
   ]
  },
  {
   "cell_type": "code",
   "execution_count": 3,
   "id": "4b0c6528",
   "metadata": {},
   "outputs": [
    {
     "name": "stdout",
     "output_type": "stream",
     "text": [
      "There is no Pivot index for this array.\n"
     ]
    }
   ],
   "source": [
    "nums = [1,2,3]\n",
    "\n",
    "pivotIndex(nums)"
   ]
  },
  {
   "cell_type": "code",
   "execution_count": 4,
   "id": "8fb34b80",
   "metadata": {},
   "outputs": [
    {
     "name": "stdout",
     "output_type": "stream",
     "text": [
      "The index of the Pivot number is 0.\n"
     ]
    }
   ],
   "source": [
    "nums = [2,1,-1]\n",
    "\n",
    "pivotIndex(nums)"
   ]
  }
 ],
 "metadata": {
  "kernelspec": {
   "display_name": "Python 3 (ipykernel)",
   "language": "python",
   "name": "python3"
  },
  "language_info": {
   "codemirror_mode": {
    "name": "ipython",
    "version": 3
   },
   "file_extension": ".py",
   "mimetype": "text/x-python",
   "name": "python",
   "nbconvert_exporter": "python",
   "pygments_lexer": "ipython3",
   "version": "3.9.7"
  }
 },
 "nbformat": 4,
 "nbformat_minor": 5
}

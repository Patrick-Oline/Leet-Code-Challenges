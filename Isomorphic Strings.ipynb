{
 "cells": [
  {
   "cell_type": "code",
   "execution_count": 1,
   "id": "deda9972",
   "metadata": {},
   "outputs": [],
   "source": [
    "def isIsomorphic(s, t):\n",
    "    \n",
    "    #zip() iterables first, then set() removes any duplicates\n",
    "    zipped_set = set(zip(s, t))\n",
    "    \n",
    "    #comparing lengths when duplicacies are removed\n",
    "    return len(zipped_set) == len(set(s)) == len(set(t))"
   ]
  },
  {
   "cell_type": "code",
   "execution_count": 2,
   "id": "ae70458b",
   "metadata": {},
   "outputs": [
    {
     "data": {
      "text/plain": [
       "True"
      ]
     },
     "execution_count": 2,
     "metadata": {},
     "output_type": "execute_result"
    }
   ],
   "source": [
    "s =\"egg\"\n",
    "t =\"add\"\n",
    "\n",
    "isIsomorphic(s,t)"
   ]
  },
  {
   "cell_type": "code",
   "execution_count": 3,
   "id": "a9cc60a9",
   "metadata": {},
   "outputs": [
    {
     "data": {
      "text/plain": [
       "False"
      ]
     },
     "execution_count": 3,
     "metadata": {},
     "output_type": "execute_result"
    }
   ],
   "source": [
    "s =\"foo\"\n",
    "t =\"bar\"\n",
    "\n",
    "isIsomorphic(s,t)"
   ]
  },
  {
   "cell_type": "code",
   "execution_count": 4,
   "id": "34f60c77",
   "metadata": {},
   "outputs": [
    {
     "data": {
      "text/plain": [
       "True"
      ]
     },
     "execution_count": 4,
     "metadata": {},
     "output_type": "execute_result"
    }
   ],
   "source": [
    "s =\"paper\"\n",
    "t =\"title\"\n",
    "\n",
    "isIsomorphic(s,t)"
   ]
  }
 ],
 "metadata": {
  "kernelspec": {
   "display_name": "Python 3 (ipykernel)",
   "language": "python",
   "name": "python3"
  },
  "language_info": {
   "codemirror_mode": {
    "name": "ipython",
    "version": 3
   },
   "file_extension": ".py",
   "mimetype": "text/x-python",
   "name": "python",
   "nbconvert_exporter": "python",
   "pygments_lexer": "ipython3",
   "version": "3.9.7"
  }
 },
 "nbformat": 4,
 "nbformat_minor": 5
}

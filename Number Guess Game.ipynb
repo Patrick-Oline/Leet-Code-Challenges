{
 "cells": [
  {
   "cell_type": "code",
   "execution_count": 85,
   "id": "34c23be1",
   "metadata": {},
   "outputs": [
    {
     "name": "stdout",
     "output_type": "stream",
     "text": [
      "Lower bound = 1\n",
      "Upper bound = 10\n",
      "Guess the randomly picked number between 1 and 10... \n",
      "5\n",
      "\n",
      "Your guess is: 5\n",
      "Incorrect try again. Here is a hint, the number is even.\n",
      "6\n",
      "\n",
      "Your guess is: 6\n",
      "\n",
      "Correct!\n",
      "The number was 6.\n",
      "It took you 2 guesses.\n"
     ]
    }
   ],
   "source": [
    "import random\n",
    "\n",
    "low = input('Lower bound = ')\n",
    "up = input('Upper bound = ')\n",
    "\n",
    "low = int(low)\n",
    "up = int(up)\n",
    "\n",
    "num_guess = 0\n",
    "\n",
    "answer = random.randint(low, up)\n",
    "\n",
    "guess = input(\"Guess the randomly picked number between \" +str(low) \n",
    "              +' and '+str(up)+'... '+ '\\n')\n",
    "print('\\n'+'Your guess is: ' + guess)\n",
    "guess = int(guess)\n",
    "\n",
    "\n",
    "### Even or Odd hint\n",
    "if guess == answer:\n",
    "    #num_guess = num_guess + 1\n",
    "    \n",
    "    print('\\n')\n",
    "elif answer % 2 == 0:\n",
    "    guess = input('Incorrect try again. Here is a hint, the number is even.'+ '\\n')\n",
    "    guess = int(guess)\n",
    "    num_guess = num_guess + 1\n",
    "    print('\\n' + 'Your guess is: ' + str(guess)+ '\\n')\n",
    "else:    \n",
    "    guess = input('Incorrect try again. Here is a hint, the number is odd.'+ '\\n')\n",
    "    guess = int(guess)\n",
    "    num_guess = num_guess + 1\n",
    "    print('\\n' + 'Your guess is: ' + str(guess)+ '\\n')\n",
    "\n",
    "num_guess = num_guess + 1\n",
    "    \n",
    "### Larger or Smaller while loop\n",
    "while guess != answer:\n",
    "    if answer < guess:\n",
    "        guess = input('Incorrect try again. Here is a hint, the number smaller than your guess.'+ '\\n')\n",
    "        guess = int(guess)\n",
    "        num_guess = num_guess + 1\n",
    "        print('\\n' + 'Your guess is: ' + str(guess)+ '\\n')\n",
    "    else:\n",
    "        guess = input('Incorrect try again. Here is a hint, the number larger than your guess.'+ '\\n')\n",
    "        guess = int(guess)\n",
    "        num_guess = num_guess + 1\n",
    "        print('\\n' + 'Your guess is: ' + str(guess)+ '\\n')\n",
    "\n",
    "if num_guess == 1:\n",
    "    print('CORRECT!' + '\\n'+'The number was ' + str (answer) +'.' + '\\n' +'You guessed the number on your first try!!!')\n",
    "else:\n",
    "    print('Correct!' + '\\n' +'The number was ' + str (answer)+ '.' + '\\n' + 'It took you '+ str(num_guess)+ ' guesses.')\n"
   ]
  }
 ],
 "metadata": {
  "kernelspec": {
   "display_name": "Python 3 (ipykernel)",
   "language": "python",
   "name": "python3"
  },
  "language_info": {
   "codemirror_mode": {
    "name": "ipython",
    "version": 3
   },
   "file_extension": ".py",
   "mimetype": "text/x-python",
   "name": "python",
   "nbconvert_exporter": "python",
   "pygments_lexer": "ipython3",
   "version": "3.9.7"
  }
 },
 "nbformat": 4,
 "nbformat_minor": 5
}

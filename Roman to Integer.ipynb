{
 "cells": [
  {
   "cell_type": "code",
   "execution_count": 1,
   "id": "c85a6220",
   "metadata": {},
   "outputs": [],
   "source": [
    "class Solution:\n",
    "    def romanToInt(self, s: str) -> int:\n",
    "        rti = {'I':1,'V':5,'X':10,'L':50,'C':100,'D':500 ,'M':1000}\n",
    "\n",
    "        ans=0\n",
    "\n",
    "        for a in range(len(s)-1):\n",
    "\n",
    "            if rti[s[a]] < rti[s[a+1]]:\n",
    "                ans = ans - rti[s[a]]\n",
    "\n",
    "            else:   \n",
    "                ans = ans + rti[s[a]]\n",
    "\n",
    "        return ans+rti[s[-1]]\n",
    "\n",
    "p = Solution()"
   ]
  },
  {
   "cell_type": "code",
   "execution_count": 2,
   "id": "9baddbe8",
   "metadata": {},
   "outputs": [
    {
     "data": {
      "text/plain": [
       "3"
      ]
     },
     "execution_count": 2,
     "metadata": {},
     "output_type": "execute_result"
    }
   ],
   "source": [
    "p.romanToInt(s = \"III\")"
   ]
  },
  {
   "cell_type": "code",
   "execution_count": 3,
   "id": "171991db",
   "metadata": {},
   "outputs": [
    {
     "data": {
      "text/plain": [
       "58"
      ]
     },
     "execution_count": 3,
     "metadata": {},
     "output_type": "execute_result"
    }
   ],
   "source": [
    "p.romanToInt(s=\"LVIII\")"
   ]
  },
  {
   "cell_type": "code",
   "execution_count": 4,
   "id": "dc99b8fb",
   "metadata": {},
   "outputs": [
    {
     "data": {
      "text/plain": [
       "1994"
      ]
     },
     "execution_count": 4,
     "metadata": {},
     "output_type": "execute_result"
    }
   ],
   "source": [
    "p.romanToInt(s='MCMXCIV')"
   ]
  }
 ],
 "metadata": {
  "kernelspec": {
   "display_name": "Python 3 (ipykernel)",
   "language": "python",
   "name": "python3"
  },
  "language_info": {
   "codemirror_mode": {
    "name": "ipython",
    "version": 3
   },
   "file_extension": ".py",
   "mimetype": "text/x-python",
   "name": "python",
   "nbconvert_exporter": "python",
   "pygments_lexer": "ipython3",
   "version": "3.9.7"
  }
 },
 "nbformat": 4,
 "nbformat_minor": 5
}
